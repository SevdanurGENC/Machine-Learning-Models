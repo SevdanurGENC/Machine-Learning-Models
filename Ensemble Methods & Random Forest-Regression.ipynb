{
 "cells": [
  {
   "cell_type": "code",
   "execution_count": 1,
   "metadata": {},
   "outputs": [],
   "source": [
    "import matplotlib.pyplot as plt\n",
    "import seaborn as sns; sns.set()\n",
    "import numpy as np\n",
    "import pandas as pd\n",
    "\n",
    "import warnings\n",
    "warnings.filterwarnings(\"ignore\")"
   ]
  },
  {
   "cell_type": "markdown",
   "metadata": {},
   "source": [
    "# __Ensemble Methods & Random Forest__"
   ]
  },
  {
   "cell_type": "markdown",
   "metadata": {},
   "source": [
    "### __Random Forests__"
   ]
  },
  {
   "cell_type": "code",
   "execution_count": 2,
   "metadata": {},
   "outputs": [
    {
     "name": "stdout",
     "output_type": "stream",
     "text": [
      "sepal length (cm) 0.11249225099876374\n",
      "sepal width (cm) 0.023119288282510326\n",
      "petal length (cm) 0.44103046436395765\n",
      "petal width (cm) 0.4233579963547681\n"
     ]
    }
   ],
   "source": [
    "from sklearn.datasets import load_iris\n",
    "from sklearn.ensemble import RandomForestClassifier\n",
    "iris = load_iris()\n",
    "rnd_clf = RandomForestClassifier(n_estimators=500, n_jobs=-1, random_state=42)\n",
    "rnd_clf.fit(iris[\"data\"], iris[\"target\"])\n",
    "for name, score in zip(iris[\"feature_names\"], rnd_clf.feature_importances_):\n",
    "    print(name, score)\n",
    "\n",
    "#feature importance : aldigimiz feature'in model uzerine etkisi"
   ]
  },
  {
   "cell_type": "code",
   "execution_count": 3,
   "metadata": {},
   "outputs": [
    {
     "data": {
      "text/plain": [
       "array([0.11249225, 0.02311929, 0.44103046, 0.423358  ])"
      ]
     },
     "execution_count": 3,
     "metadata": {},
     "output_type": "execute_result"
    }
   ],
   "source": [
    "rnd_clf.feature_importances_"
   ]
  },
  {
   "cell_type": "markdown",
   "metadata": {},
   "source": [
    "### Random Forest Regression"
   ]
  },
  {
   "cell_type": "code",
   "execution_count": 4,
   "metadata": {},
   "outputs": [],
   "source": [
    "import numpy as np\n",
    "import pandas as pd\n",
    "from sklearn.model_selection import train_test_split\n",
    "from sklearn.ensemble import RandomForestRegressor\n",
    "from sklearn.metrics import r2_score,mean_squared_error\n",
    "import seaborn as sns"
   ]
  },
  {
   "cell_type": "code",
   "execution_count": 5,
   "metadata": {},
   "outputs": [
    {
     "data": {
      "text/html": [
       "<div>\n",
       "<style scoped>\n",
       "    .dataframe tbody tr th:only-of-type {\n",
       "        vertical-align: middle;\n",
       "    }\n",
       "\n",
       "    .dataframe tbody tr th {\n",
       "        vertical-align: top;\n",
       "    }\n",
       "\n",
       "    .dataframe thead th {\n",
       "        text-align: right;\n",
       "    }\n",
       "</style>\n",
       "<table border=\"1\" class=\"dataframe\">\n",
       "  <thead>\n",
       "    <tr style=\"text-align: right;\">\n",
       "      <th></th>\n",
       "      <th>x</th>\n",
       "      <th>y</th>\n",
       "    </tr>\n",
       "  </thead>\n",
       "  <tbody>\n",
       "    <tr>\n",
       "      <th>0</th>\n",
       "      <td>59.000000</td>\n",
       "      <td>152.553428</td>\n",
       "    </tr>\n",
       "    <tr>\n",
       "      <th>1</th>\n",
       "      <td>88.696970</td>\n",
       "      <td>158.420441</td>\n",
       "    </tr>\n",
       "    <tr>\n",
       "      <th>2</th>\n",
       "      <td>87.443939</td>\n",
       "      <td>154.189316</td>\n",
       "    </tr>\n",
       "    <tr>\n",
       "      <th>3</th>\n",
       "      <td>110.090909</td>\n",
       "      <td>161.136969</td>\n",
       "    </tr>\n",
       "    <tr>\n",
       "      <th>4</th>\n",
       "      <td>126.787879</td>\n",
       "      <td>158.819572</td>\n",
       "    </tr>\n",
       "  </tbody>\n",
       "</table>\n",
       "</div>"
      ],
      "text/plain": [
       "            x           y\n",
       "0   59.000000  152.553428\n",
       "1   88.696970  158.420441\n",
       "2   87.443939  154.189316\n",
       "3  110.090909  161.136969\n",
       "4  126.787879  158.819572"
      ]
     },
     "execution_count": 5,
     "metadata": {},
     "output_type": "execute_result"
    }
   ],
   "source": [
    "data_df = pd.read_csv('Random-Forest-Regression-Data.csv')\n",
    "data_df.head()"
   ]
  },
  {
   "cell_type": "code",
   "execution_count": 6,
   "metadata": {},
   "outputs": [
    {
     "name": "stdout",
     "output_type": "stream",
     "text": [
      "x\n",
      " [[  59.        ]\n",
      " [  88.6969697 ]\n",
      " [  87.44393939]\n",
      " [ 110.09090909]\n",
      " [ 126.78787879]\n",
      " [ 148.48484848]\n",
      " [ 168.18181818]\n",
      " [ 187.87878788]\n",
      " [ 207.57575758]\n",
      " [ 227.27272727]\n",
      " [ 246.96969697]\n",
      " [ 266.66666667]\n",
      " [ 286.36363636]\n",
      " [ 306.06060606]\n",
      " [ 325.75757576]\n",
      " [ 345.45454545]\n",
      " [ 365.15151515]\n",
      " [ 384.84848485]\n",
      " [ 404.54545455]\n",
      " [ 424.24242424]\n",
      " [ 443.93939394]\n",
      " [ 463.63636364]\n",
      " [ 483.33333333]\n",
      " [ 503.03030303]\n",
      " [ 522.72727273]\n",
      " [ 542.42424242]\n",
      " [ 562.12121212]\n",
      " [ 581.81818182]\n",
      " [ 601.51515152]\n",
      " [ 621.21212121]\n",
      " [ 640.90909091]\n",
      " [ 660.60606061]\n",
      " [ 680.3030303 ]\n",
      " [ 700.        ]\n",
      " [ 719.6969697 ]\n",
      " [ 739.39393939]\n",
      " [ 759.09090909]\n",
      " [ 778.78787879]\n",
      " [ 798.48484848]\n",
      " [ 818.18181818]\n",
      " [ 837.87878788]\n",
      " [ 857.57575758]\n",
      " [ 877.27272727]\n",
      " [ 896.96969697]\n",
      " [ 916.66666667]\n",
      " [ 936.36363636]\n",
      " [ 956.06060606]\n",
      " [ 975.75757576]\n",
      " [ 995.45454545]\n",
      " [1015.15151515]\n",
      " [1034.84848485]\n",
      " [1054.54545455]\n",
      " [1074.24242424]\n",
      " [1093.93939394]\n",
      " [1113.63636364]\n",
      " [1133.33333333]\n",
      " [1153.03030303]\n",
      " [1172.72727273]\n",
      " [1192.42424242]\n",
      " [1212.12121212]\n",
      " [1231.81818182]\n",
      " [1251.51515152]\n",
      " [1271.21212121]\n",
      " [1290.90909091]\n",
      " [1310.60606061]\n",
      " [1330.3030303 ]\n",
      " [1350.        ]\n",
      " [1369.6969697 ]\n",
      " [1389.39393939]\n",
      " [1409.09090909]\n",
      " [1428.78787879]\n",
      " [1448.48484848]\n",
      " [1468.18181818]\n",
      " [1487.87878788]\n",
      " [1507.57575758]\n",
      " [1527.27272727]\n",
      " [1546.96969697]\n",
      " [1566.66666667]\n",
      " [1586.36363636]\n",
      " [1606.06060606]\n",
      " [1625.75757576]\n",
      " [1645.45454545]\n",
      " [1665.15151515]\n",
      " [1684.84848485]\n",
      " [1704.54545455]\n",
      " [1724.24242424]\n",
      " [1743.93939394]\n",
      " [1763.63636364]\n",
      " [1783.33333333]\n",
      " [1803.03030303]\n",
      " [1822.72727273]\n",
      " [1842.42424242]\n",
      " [1862.12121212]\n",
      " [1881.81818182]\n",
      " [1901.51515152]\n",
      " [1921.21212121]\n",
      " [1940.90909091]\n",
      " [1960.60606061]\n",
      " [1980.3030303 ]\n",
      " [2000.        ]] \n",
      "\n",
      "y\n",
      " [[152.55342831]\n",
      " [158.42044109]\n",
      " [154.18931647]\n",
      " [161.1369688 ]\n",
      " [158.81957204]\n",
      " [157.01657457]\n",
      " [160.84024381]\n",
      " [159.41365734]\n",
      " [157.1368088 ]\n",
      " [159.35784736]\n",
      " [157.54286158]\n",
      " [157.73520716]\n",
      " [159.34756091]\n",
      " [155.23404557]\n",
      " [155.80774009]\n",
      " [158.3299704 ]\n",
      " [157.62585291]\n",
      " [160.47697951]\n",
      " [158.22940639]\n",
      " [157.41781684]\n",
      " [163.37069148]\n",
      " [160.18481104]\n",
      " [160.96838974]\n",
      " [158.18080666]\n",
      " [160.13850728]\n",
      " [161.6460876 ]\n",
      " [159.31922497]\n",
      " [162.56957785]\n",
      " [160.81387414]\n",
      " [161.62873371]\n",
      " [161.20567768]\n",
      " [166.31061698]\n",
      " [162.77603585]\n",
      " [160.88457814]\n",
      " [164.84205952]\n",
      " [160.95225209]\n",
      " [164.00863628]\n",
      " [159.86853854]\n",
      " [161.32847639]\n",
      " [164.57554065]\n",
      " [165.85572104]\n",
      " [164.91849414]\n",
      " [164.54143071]\n",
      " [164.36748958]\n",
      " [162.20962269]\n",
      " [163.92394795]\n",
      " [164.63932852]\n",
      " [167.87182021]\n",
      " [166.64178203]\n",
      " [162.62543484]\n",
      " [166.99665279]\n",
      " [165.77528998]\n",
      " [165.38858024]\n",
      " [168.16274652]\n",
      " [169.19836268]\n",
      " [169.19589357]\n",
      " [165.85186798]\n",
      " [167.10884798]\n",
      " [168.58676929]\n",
      " [170.07230238]\n",
      " [167.35983334]\n",
      " [168.14383356]\n",
      " [166.49945126]\n",
      " [166.51667766]\n",
      " [170.73111225]\n",
      " [172.01551036]\n",
      " [169.35597976]\n",
      " [171.70403549]\n",
      " [170.61721144]\n",
      " [168.80066958]\n",
      " [171.01067   ]\n",
      " [173.56092162]\n",
      " [170.6101661 ]\n",
      " [174.00807519]\n",
      " [165.83626737]\n",
      " [172.91653228]\n",
      " [171.64379111]\n",
      " [171.06865197]\n",
      " [172.04715792]\n",
      " [168.08546823]\n",
      " [171.81823198]\n",
      " [173.1687706 ]\n",
      " [175.60730324]\n",
      " [171.81194441]\n",
      " [171.42846734]\n",
      " [172.23891016]\n",
      " [175.27019817]\n",
      " [174.29386586]\n",
      " [172.77381293]\n",
      " [175.0568379 ]\n",
      " [174.42142783]\n",
      " [176.36153241]\n",
      " [173.21710593]\n",
      " [174.16285752]\n",
      " [174.23093521]\n",
      " [172.28509132]\n",
      " [176.00133146]\n",
      " [176.12817115]\n",
      " [175.81325722]\n",
      " [175.53082573]]\n"
     ]
    }
   ],
   "source": [
    "x = data_df.x.values.reshape(-1, 1)\n",
    "y = data_df.y.values.reshape(-1, 1)\n",
    "print('x\\n', x, '\\n')\n",
    "print('y\\n', y)\n",
    "x_train, x_test, y_train, y_test = train_test_split(x, y, test_size=0.30, random_state=42)"
   ]
  },
  {
   "cell_type": "code",
   "execution_count": 7,
   "metadata": {},
   "outputs": [
    {
     "data": {
      "text/plain": [
       "RandomForestRegressor(bootstrap=True, criterion='mse', max_depth=None,\n",
       "           max_features='auto', max_leaf_nodes=None,\n",
       "           min_impurity_decrease=0.0, min_impurity_split=None,\n",
       "           min_samples_leaf=1, min_samples_split=2,\n",
       "           min_weight_fraction_leaf=0.0, n_estimators=10, n_jobs=None,\n",
       "           oob_score=False, random_state=None, verbose=0, warm_start=False)"
      ]
     },
     "execution_count": 7,
     "metadata": {},
     "output_type": "execute_result"
    }
   ],
   "source": [
    "rf_reg = RandomForestRegressor()\n",
    "rf_reg.fit(x_train, y_train)"
   ]
  },
  {
   "cell_type": "code",
   "execution_count": 8,
   "metadata": {},
   "outputs": [
    {
     "data": {
      "text/plain": [
       "array([172.43826485, 167.67444971, 172.67780857, 164.38357136,\n",
       "       164.47695782, 161.66350658, 158.58160753, 169.89446664,\n",
       "       157.24326128, 157.54294956, 159.58003432, 161.77670818,\n",
       "       168.15366364, 163.21346458, 175.67701743, 160.72492938,\n",
       "       171.5004793 , 172.22103279, 156.0772621 , 162.63844758,\n",
       "       166.41367881, 174.96825157, 161.92313468, 164.03518922,\n",
       "       170.83457625, 157.62585291, 163.2813928 , 174.20663123,\n",
       "       157.35247023, 171.24352534])"
      ]
     },
     "execution_count": 8,
     "metadata": {},
     "output_type": "execute_result"
    }
   ],
   "source": [
    "y_pred = rf_reg.predict(x_test)\n",
    "y_pred"
   ]
  },
  {
   "cell_type": "code",
   "execution_count": 9,
   "metadata": {},
   "outputs": [
    {
     "name": "stdout",
     "output_type": "stream",
     "text": [
      "Test Accuracy =  0.8549304976070294\n"
     ]
    }
   ],
   "source": [
    "print(\"Test Accuracy = \", rf_reg.score(x_test, y_test))"
   ]
  },
  {
   "cell_type": "code",
   "execution_count": null,
   "metadata": {},
   "outputs": [],
   "source": []
  }
 ],
 "metadata": {
  "kernelspec": {
   "display_name": "Python 3",
   "language": "python",
   "name": "python3"
  },
  "language_info": {
   "codemirror_mode": {
    "name": "ipython",
    "version": 3
   },
   "file_extension": ".py",
   "mimetype": "text/x-python",
   "name": "python",
   "nbconvert_exporter": "python",
   "pygments_lexer": "ipython3",
   "version": "3.7.3"
  }
 },
 "nbformat": 4,
 "nbformat_minor": 4
}
